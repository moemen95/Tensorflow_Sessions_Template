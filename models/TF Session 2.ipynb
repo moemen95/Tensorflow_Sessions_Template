{
 "cells": [
  {
   "cell_type": "code",
   "execution_count": 6,
   "metadata": {},
   "outputs": [],
   "source": [
    "import tensorflow as tf"
   ]
  },
  {
   "cell_type": "code",
   "execution_count": 7,
   "metadata": {},
   "outputs": [],
   "source": [
    "class Config:\n",
    "    img_h = 32\n",
    "    img_w = 32\n",
    "    img_c = 3\n",
    "    num_classes = 100\n",
    "    \n",
    "    learning_rate = 1e-3\n",
    "    summary_dir = './exp_1'"
   ]
  },
  {
   "cell_type": "code",
   "execution_count": 8,
   "metadata": {},
   "outputs": [],
   "source": [
    "class Cifar:\n",
    "    \n",
    "    def __init__(self, config):\n",
    "        self.config = config\n",
    "    \n",
    "    def init_input(self):\n",
    "        with tf.variable_scope('inputs'):\n",
    "            self.x = tf.placeholder(tf.float32, [None, self.config.img_h, self.config.img_w, self.config.img_c], name='X')\n",
    "            self.y = tf.placeholder(tf.int64, [None], name='Y')\n",
    "            self.is_training = tf.placeholder(tf.bool, name='Training_flag')\n",
    "            tf.add_to_collection('inputs',self.x)\n",
    "            tf.add_to_collection('inputs',self.y)\n",
    "            tf.add_to_collection('inputs',self.is_training)\n",
    "                \n",
    "    def init_network(self):\n",
    "        with tf.variable_scope('network'):\n",
    "            conv1 = Cifar.conv_bn_relu('conv1_block', self.x, 16, (3, 3), self.is_training)\n",
    "            conv2 = Cifar.conv_bn_relu('conv2_block', conv1, 32, (3, 3), self.is_training)\n",
    "            \n",
    "            with tf.variable_scope('max_pool1'):\n",
    "                max_pool1 = tf.layers.max_pooling2d(conv2, pool_size=(2,2), strides=(2,2), name='max_pool')\n",
    "            \n",
    "            conv3 = Cifar.conv_bn_relu('conv3_block', max_pool1, 32, (3,3), self.is_training)\n",
    "            conv4 = Cifar.conv_bn_relu('conv4_block', conv3, 32, (3,3), self.is_training)\n",
    "            \n",
    "            with tf.variable_scope('max_pool2'):\n",
    "                max_pool2 = tf.layers.max_pooling2d(conv4, pool_size=(2,2), strides=(2,2), name='max_pool')\n",
    "                \n",
    "            with tf.variable_scope('flatten'):\n",
    "                flattened = tf.layers.flatten(max_pool2, name='flatten')\n",
    "                \n",
    "            dense1 = Cifar.dense_bn_relu_dropout('dense1', flattened, 512, 0.5, self.is_training)\n",
    "            dense2 = Cifar.dense_bn_relu_dropout('dense2', dense1, 256, 0.3, self.is_training)\n",
    "            \n",
    "            with tf.variable_scope('out'):\n",
    "                self.out = tf.layers.dense(dense2, self.config.num_classes,\n",
    "                                           kernel_initializer=tf.initializers.truncated_normal, name='out')\n",
    "                tf.add_to_collection('out',self.out)\n",
    "\n",
    "    \n",
    "    def init_ops(self):\n",
    "        with tf.variable_scope('out_argmax'):\n",
    "            self.out_argmax = tf.argmax(self.out, axis=-1, output_type=tf.int64, name='out_argmax')\n",
    "        \n",
    "        with tf.variable_scope('loss-acc'):\n",
    "            self.loss = tf.losses.sparse_softmax_cross_entropy(labels=self.y, logits=self.out)\n",
    "            self.acc = tf.metrics.accuracy(labels=self.y, predictions=self.out_argmax)            \n",
    "        \n",
    "        with tf.variable_scope('train_step'):\n",
    "            self.optimizer = tf.train.AdamOptimizer(self.config.learning_rate)\n",
    "            update_ops = tf.get_collection(tf.GraphKeys.UPDATE_OPS)\n",
    "            with tf.control_dependencies(update_ops):\n",
    "                self.train_step = self.optimizer.minimize(self.loss)\n",
    "    \n",
    "    def build(self):\n",
    "        self.init_input()\n",
    "        self.init_network()\n",
    "        self.init_ops()\n",
    "        \n",
    "    @staticmethod\n",
    "    def conv_bn_relu(name, x, out_filters, kernel_size, training_flag):\n",
    "        with tf.variable_scope(name):\n",
    "            out = tf.layers.conv2d(x, out_filters, kernel_size, padding='SAME', \n",
    "                                   kernel_initializer=tf.contrib.layers.xavier_initializer(), name='conv')\n",
    "            out = tf.layers.batch_normalization(out, training=training_flag, name='bn')\n",
    "            out = tf.nn.relu(out)\n",
    "            return out\n",
    "            \n",
    "    \n",
    "    @staticmethod\n",
    "    def dense_bn_relu_dropout(name, x, num_neurons, dropout_rate, training_flag):\n",
    "        with tf.variable_scope(name):\n",
    "            out = tf.layers.dense(x, num_neurons, kernel_initializer=tf.initializers.truncated_normal, name='dense')\n",
    "            out = tf.layers.batch_normalization(out, training=training_flag, name='bn')\n",
    "            out = tf.nn.relu(out)\n",
    "            out = tf.layers.dropout(out, dropout_rate, training=training_flag, name='dropout')\n",
    "            return out\n",
    "        "
   ]
  },
  {
   "cell_type": "code",
   "execution_count": 9,
   "metadata": {},
   "outputs": [
    {
     "name": "stdout",
     "output_type": "stream",
     "text": [
      "Model is built successfully\n"
     ]
    }
   ],
   "source": [
    "tf.reset_default_graph()\n",
    "\n",
    "sess = tf.Session()\n",
    "\n",
    "model = Cifar(Config)\n",
    "model.build()\n",
    "\n",
    "print('Model is built successfully')\n",
    "\n",
    "import os\n",
    "\n",
    "if not os.path.exists(Config.summary_dir):\n",
    "    os.makedirs(Config.summary_dir)\n",
    "    \n",
    "summary_writer = tf.summary.FileWriter(Config.summary_dir, graph=sess.graph)\n",
    "\n"
   ]
  },
  {
   "cell_type": "code",
   "execution_count": 21,
   "metadata": {},
   "outputs": [
    {
     "name": "stdout",
     "output_type": "stream",
     "text": [
      "[<tf.Tensor 'inputs/X:0' shape=(?, 32, 32, 3) dtype=float32>, <tf.Tensor 'inputs/Y:0' shape=(?,) dtype=int64>, <tf.Tensor 'inputs/Training_flag:0' shape=<unknown> dtype=bool>]\n",
      "Tensor(\"inputs/X:0\", shape=(?, 32, 32, 3), dtype=float32)\n",
      "Tensor(\"inputs/Y:0\", shape=(?,), dtype=int64)\n",
      "Tensor(\"inputs/Training_flag:0\", dtype=bool)\n",
      "[<tf.Tensor 'network/out/out/BiasAdd:0' shape=(?, 100) dtype=float32>]\n",
      "[array([[0., 0., 0., 0., 0., 0., 0., 0., 0., 0., 0., 0., 0., 0., 0., 0.,\n",
      "        0., 0., 0., 0., 0., 0., 0., 0., 0., 0., 0., 0., 0., 0., 0., 0.,\n",
      "        0., 0., 0., 0., 0., 0., 0., 0., 0., 0., 0., 0., 0., 0., 0., 0.,\n",
      "        0., 0., 0., 0., 0., 0., 0., 0., 0., 0., 0., 0., 0., 0., 0., 0.,\n",
      "        0., 0., 0., 0., 0., 0., 0., 0., 0., 0., 0., 0., 0., 0., 0., 0.,\n",
      "        0., 0., 0., 0., 0., 0., 0., 0., 0., 0., 0., 0., 0., 0., 0., 0.,\n",
      "        0., 0., 0., 0.]], dtype=float32)]\n",
      "(1, 100)\n",
      "float32\n"
     ]
    }
   ],
   "source": [
    "init = tf.global_variables_initializer().run(session=sess)\n",
    "\n",
    "print(tf.get_collection('inputs'))\n",
    "x, y, is_training = tf.get_collection('inputs')\n",
    "out = tf.get_collection('out')\n",
    "print(x)\n",
    "print(y)\n",
    "print(is_training)\n",
    "print(out)\n",
    "import numpy as np\n",
    "out = out[0]\n",
    "out_np = sess.run([out], feed_dict={x:np.zeros((1,32,32,3)),is_training:False})\n",
    "print(out_np)\n",
    "print(out_np[0].shape)\n",
    "print(out_np[0].dtype)"
   ]
  },
  {
   "cell_type": "code",
   "execution_count": null,
   "metadata": {},
   "outputs": [],
   "source": []
  }
 ],
 "metadata": {
  "kernelspec": {
   "display_name": "Python 3",
   "language": "python",
   "name": "python3"
  },
  "language_info": {
   "codemirror_mode": {
    "name": "ipython",
    "version": 3
   },
   "file_extension": ".py",
   "mimetype": "text/x-python",
   "name": "python",
   "nbconvert_exporter": "python",
   "pygments_lexer": "ipython3",
   "version": "3.6.4"
  }
 },
 "nbformat": 4,
 "nbformat_minor": 2
}
